{
 "cells": [
  {
   "cell_type": "code",
   "execution_count": null,
   "metadata": {},
   "outputs": [],
   "source": [
    "# FUNCTIONS\n",
    "def getInput(some_func):\n",
    "    \n",
    "    def newFunc():\n",
    "        a = int(input(\"Enter a Number \"))\n",
    "        \n",
    "        some_func(a)\n",
    "    return newFunc()"
   ]
  },
  {
   "cell_type": "code",
   "execution_count": 20,
   "metadata": {},
   "outputs": [
    {
     "name": "stdout",
     "output_type": "stream",
     "text": [
      "Enter a Number 5\n",
      "0  1  4  9  16  "
     ]
    }
   ],
   "source": [
    "@getInput\n",
    "def fibonacci(a):\n",
    "    for i in range(0,a):\n",
    "        a=i**2\n",
    "        print(a,end= \"  \")"
   ]
  },
  {
   "cell_type": "code",
   "execution_count": 21,
   "metadata": {},
   "outputs": [
    {
     "name": "stdout",
     "output_type": "stream",
     "text": [
      "Enter a Number 5\n",
      "2  3  4  5  6  "
     ]
    }
   ],
   "source": [
    "@getInput\n",
    "def fibonacci(a):\n",
    "    for i in range(0,a):\n",
    "        a= i+2\n",
    "        print(a,end= \"  \")"
   ]
  },
  {
   "cell_type": "code",
   "execution_count": 22,
   "metadata": {},
   "outputs": [],
   "source": [
    "def fun1(a,b):\n",
    "    c=a+b\n",
    "    return c\n",
    "    res=fun1(10,20)+20\n",
    "    print(res)"
   ]
  },
  {
   "cell_type": "code",
   "execution_count": 23,
   "metadata": {},
   "outputs": [],
   "source": [
    "def fun1(name,age=32, marks=60):\n",
    "    print(name,age)\n",
    "    print(\" name age marks\")\n",
    "    fun1(\"Nilesh\",30,80)\n",
    "    fun1(\"Ram\")\n",
    "    fun1(\"Payal\", marks=90)"
   ]
  },
  {
   "cell_type": "code",
   "execution_count": 24,
   "metadata": {},
   "outputs": [
    {
     "name": "stdout",
     "output_type": "stream",
     "text": [
      "12 ()\n",
      "10 (20,)\n",
      "4 (5, 1, 6, 9, 4)\n"
     ]
    }
   ],
   "source": [
    "def fun1(a,*args):\n",
    "    print(a,args)\n",
    "fun1(12)\n",
    "fun1(10,20)\n",
    "fun1(4,5,1,6,9,4)"
   ]
  },
  {
   "cell_type": "markdown",
   "metadata": {},
   "source": [
    "# #Pass by Reference\n",
    "\n"
   ]
  },
  {
   "cell_type": "code",
   "execution_count": 12,
   "metadata": {},
   "outputs": [
    {
     "name": "stdout",
     "output_type": "stream",
     "text": [
      "35\n",
      "After calling 35\n"
     ]
    }
   ],
   "source": [
    "def fun1():\n",
    "    global k\n",
    "    k = k+1\n",
    "    print(k)\n",
    "k=34\n",
    "fun1()\n",
    "print(\"After calling\",k)"
   ]
  },
  {
   "cell_type": "code",
   "execution_count": 13,
   "metadata": {},
   "outputs": [
    {
     "name": "stdout",
     "output_type": "stream",
     "text": [
      "inside before appending [6, 7, 8] 2373360938632\n",
      "After appending [6, 7, 8, 30] 2373360938632\n",
      "After calling [6, 7, 8, 30] 2373360938632\n"
     ]
    }
   ],
   "source": [
    "def fun1(list1):\n",
    "    print(\"inside before appending\",list1,id(list1))\n",
    "    list1.append(30)\n",
    "    print(\"After appending\", list1, id(list1))\n",
    "list2=[6,7,8]\n",
    "fun1(list2)\n",
    "print(\"After calling\", list2, id(list2))"
   ]
  },
  {
   "cell_type": "markdown",
   "metadata": {},
   "source": [
    "## Module"
   ]
  },
  {
   "cell_type": "code",
   "execution_count": 14,
   "metadata": {},
   "outputs": [
    {
     "name": "stdout",
     "output_type": "stream",
     "text": [
      "90\n",
      "0\n",
      "['In', 'Out', '_', '__', '___', '__builtin__', '__builtins__', '__doc__', '__loader__', '__name__', '__package__', '__spec__', '_dh', '_i', '_i1', '_i10', '_i11', '_i12', '_i13', '_i14', '_i2', '_i3', '_i4', '_i5', '_i6', '_i7', '_i8', '_i9', '_ih', '_ii', '_iii', '_oh', 'exit', 'fibonacci', 'fun1', 'getInput', 'get_ipython', 'k', 'list2', 'quit', 'sub1', 'sum1']\n"
     ]
    }
   ],
   "source": [
    "def sum1(a,b):\n",
    "    c=a+b\n",
    "    return c\n",
    "def sub1(a,b):\n",
    "    c=a-b\n",
    "    return c\n",
    "print (sum1(60,30))\n",
    "print (sub1(30,30))\n",
    "print (dir())"
   ]
  },
  {
   "cell_type": "code",
   "execution_count": 15,
   "metadata": {},
   "outputs": [],
   "source": [
    "def multi(a,b):\n",
    "    c=a*b\n",
    "    return c\n",
    "def divide (a,b):\n",
    "    c=a/b\n",
    "    print(sum1(9,2))\n",
    "    print(multi(9,8))"
   ]
  },
  {
   "cell_type": "code",
   "execution_count": 16,
   "metadata": {},
   "outputs": [
    {
     "name": "stdout",
     "output_type": "stream",
     "text": [
      "11\n",
      "4\n",
      "40\n",
      "['In', 'Out', '_', '__', '___', '__builtin__', '__builtins__', '__doc__', '__loader__', '__name__', '__package__', '__spec__', '_dh', '_i', '_i1', '_i10', '_i11', '_i12', '_i13', '_i14', '_i15', '_i16', '_i2', '_i3', '_i4', '_i5', '_i6', '_i7', '_i8', '_i9', '_ih', '_ii', '_iii', '_oh', 'divide', 'exit', 'fibonacci', 'fun1', 'getInput', 'get_ipython', 'k', 'list2', 'multi', 'quit', 'sub1', 'sum1']\n",
      "72\n"
     ]
    }
   ],
   "source": [
    "print(sum1(9,2))\n",
    "print(sub1(8,4))\n",
    "print(sum1(10,30))\n",
    "print(dir())\n",
    "print(multi(9,8))"
   ]
  },
  {
   "cell_type": "code",
   "execution_count": null,
   "metadata": {},
   "outputs": [],
   "source": []
  }
 ],
 "metadata": {
  "kernelspec": {
   "display_name": "Python 3",
   "language": "python",
   "name": "python3"
  },
  "language_info": {
   "codemirror_mode": {
    "name": "ipython",
    "version": 3
   },
   "file_extension": ".py",
   "mimetype": "text/x-python",
   "name": "python",
   "nbconvert_exporter": "python",
   "pygments_lexer": "ipython3",
   "version": "3.7.6"
  }
 },
 "nbformat": 4,
 "nbformat_minor": 4
}
